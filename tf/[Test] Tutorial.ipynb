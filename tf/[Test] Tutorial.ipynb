{
 "cells": [
  {
   "cell_type": "code",
   "execution_count": 1,
   "metadata": {},
   "outputs": [
    {
     "name": "stderr",
     "output_type": "stream",
     "text": [
      "/home/andrey/tensorflow/lib/python3.6/site-packages/h5py/__init__.py:36: FutureWarning: Conversion of the second argument of issubdtype from `float` to `np.floating` is deprecated. In future, it will be treated as `np.float64 == np.dtype(float).type`.\n",
      "  from ._conv import register_converters as _register_converters\n"
     ]
    }
   ],
   "source": [
    "import numpy as np\n",
    "import tensorflow as tf\n",
    "import math\n",
    "\n",
    "def rosenbrock(x, y, a, b):\n",
    "    return (a - x)**2 + b*(y - x**2)**2\n",
    "\n",
    "def rosenbrock2(x, p):\n",
    "    with tf.name_scope(\"Rosenbrock\"):\n",
    "        x, y = tf.unstack(x, axis=1)\n",
    "        a, b = tf.unstack(p)\n",
    "        return (a - x)**2 + b*(y - x**2)**2"
   ]
  },
  {
   "cell_type": "code",
   "execution_count": 2,
   "metadata": {},
   "outputs": [],
   "source": [
    "# (0.5, 0.5) - это реальные параметры, давайте забудем, что они нам известны\n",
    "data_points = np.array([[x, y, rosenbrock(x, y, 2.5, 2.5)]\n",
    "                       for x in np.arange(-2, 2.1, 2) \n",
    "                       for y in np.arange(-2, 2.1, 2)])\n",
    "m = data_points.shape[0]"
   ]
  },
  {
   "cell_type": "code",
   "execution_count": 3,
   "metadata": {},
   "outputs": [],
   "source": [
    "# тензоры данных экспериментов ('placeholder' означает, что данные надо \n",
    "# передавать каждый раз при запуске вычислений)\n",
    "x = tf.placeholder(tf.float64, shape=[m, 2], name='x')\n",
    "y = tf.placeholder(tf.float64, shape=[m], name='y')\n",
    "# тензор параметров ('variable' означает, что он хранит состояние)\n",
    "# инициализуем его нашей догадкой (5, 5)\n",
    "p = tf.Variable([5., 5.], dtype=tf.float64, name='p')\n",
    "# модель\n",
    "y_hat = rosenbrock2(x, p)\n",
    "# невязки\n",
    "r = tf.subtract(y, y_hat)\n",
    "# mse (mean squared error)\n",
    "c1 = tf.constant(2., dtype=tf.float64, name='2')\n",
    "r_squared = tf.pow(r, c1)\n",
    "loss = tf.reduce_mean(r_squared)"
   ]
  },
  {
   "cell_type": "code",
   "execution_count": 4,
   "metadata": {},
   "outputs": [
    {
     "name": "stdout",
     "output_type": "stream",
     "text": [
      "3868.2291666666665\n"
     ]
    },
    {
     "data": {
      "text/plain": [
       "<tensorflow.python.summary.writer.writer.FileWriter at 0x7fa773f86b70>"
      ]
     },
     "execution_count": 4,
     "metadata": {},
     "output_type": "execute_result"
    }
   ],
   "source": [
    "# при запуске вычислений нам надо передать данные \n",
    "# для подстановки в тензоры типа placeholder (координаты и высота)\n",
    "feed_dict = {x: data_points[:,0:2], y: data_points[:,2]}\n",
    "# в сессии запускаются операции и вычисления TensorFlow\n",
    "session = tf.Session()\n",
    "# инициализируем глобальные переменные графа\n",
    "session.run(tf.global_variables_initializer())\n",
    "# запускаем вычисление (оценку) тензора loss (mse)\n",
    "current_loss = session.run(loss, feed_dict)\n",
    "print(current_loss)\n",
    "tf.summary.FileWriter('./logs/loss', session.graph)"
   ]
  },
  {
   "cell_type": "code",
   "execution_count": 5,
   "metadata": {},
   "outputs": [],
   "source": [
    "session.close()"
   ]
  },
  {
   "cell_type": "code",
   "execution_count": 18,
   "metadata": {},
   "outputs": [],
   "source": [
    "# параметры: целевое значение mse, максимальное число шагов, тензор\n",
    "# для вычисления mse, операция шага оптимизации и данные для тензоров placeholder\n",
    "def train(target_loss, max_steps, loss_tensor, train_step_op, inputs):\n",
    "    step = 0\n",
    "    current_loss = session.run(loss_tensor, inputs)\n",
    "    # оптимизируем пока не закончились шаги или не добились нужного результата\n",
    "    while current_loss > target_loss and step < max_steps:\n",
    "        step += 1\n",
    "        # логируем прогресс на 1, 2, 4, 8, 16... шагах\n",
    "        if math.log(step, 2).is_integer():\n",
    "            print(f'step: {step}, current loss: {current_loss}')\n",
    "        # делаем оптимизационный шаг\n",
    "        session.run(train_step_op, inputs)\n",
    "        current_loss = session.run(loss_tensor, inputs)\n",
    "    print(f'ENDED ON STEP: {step}, FINAL LOSS: {current_loss}')"
   ]
  },
  {
   "cell_type": "code",
   "execution_count": 19,
   "metadata": {},
   "outputs": [
    {
     "name": "stdout",
     "output_type": "stream",
     "text": [
      "step: 1, current loss: 3868.2291666666665\n",
      "step: 2, current loss: 1381.5379689135807\n",
      "step: 4, current loss: 224.7373049641391\n",
      "step: 8, current loss: 39.36606191164495\n",
      "step: 16, current loss: 21.251396378934388\n",
      "step: 32, current loss: 8.262024313710537\n",
      "step: 64, current loss: 1.5494658076417605\n",
      "step: 128, current loss: 0.07505392682364921\n",
      "step: 256, current loss: 0.00022995372615102207\n",
      "step: 512, current loss: 2.3476189944007084e-09\n",
      "ENDED ON STEP: 582, FINAL LOSS: 9.698531012270816e-11\n",
      "PARAMETERS: [2.50000205 2.49999959]\n"
     ]
    }
   ],
   "source": [
    "# вычисляем градиент функции потерь по вектору параметров\n",
    "grad = tf.gradients(loss, p)[0]\n",
    "# скорость обучения\n",
    "learning_rate = 0.0005\n",
    "# оптимизатор нам нужен, чтобы воспользоваться его методом apply_gradients -\n",
    "# обновление вектора параметров на градиент со знаком минус\n",
    "opt = tf.train.GradientDescentOptimizer(learning_rate=1)\n",
    "# изменяем вектор параметров на значение градиента с учётом скорости обучения\n",
    "sgd = opt.apply_gradients([(learning_rate*grad, p)])\n",
    "# запускаем цикл оптимизации, сделаем не больше 40000 шагов\n",
    "session.run(tf.global_variables_initializer())\n",
    "train(1e-10, 40000, loss, sgd, feed_dict)\n",
    "print('PARAMETERS:', session.run(p))"
   ]
  },
  {
   "cell_type": "code",
   "execution_count": 20,
   "metadata": {},
   "outputs": [
    {
     "name": "stdout",
     "output_type": "stream",
     "text": [
      "step: 1, current loss: 3868.2291666666665\n",
      "step: 2, current loss: 34205.72916492336\n",
      "step: 4, current loss: 30529.10972641627\n",
      "step: 8, current loss: 6066.123962286116\n",
      "step: 16, current loss: 30745.55587142064\n",
      "step: 32, current loss: 489.35901192814686\n",
      "step: 64, current loss: 114.83695692773343\n",
      "step: 128, current loss: 0.18336513192707898\n",
      "step: 256, current loss: 4.58012625391607e-07\n",
      "ENDED ON STEP: 317, FINAL LOSS: 2.424142714263483e-12\n",
      "PARAMETERS: [2.49999969 2.50000008]\n"
     ]
    }
   ],
   "source": [
    "# не будем сами вычислять и применять градиенты, \n",
    "# а сразу сконструируем шаг оптимизации\n",
    "adm = tf.train.AdamOptimizer(15).minimize(loss)\n",
    "# запускаем цикл оптимизации, сделаем не больше 40000 шагов\n",
    "session.run(tf.global_variables_initializer())\n",
    "train(1e-10, 40000, loss, adm, feed_dict)\n",
    "print('PARAMETERS:', session.run(p))"
   ]
  },
  {
   "cell_type": "code",
   "execution_count": 21,
   "metadata": {},
   "outputs": [
    {
     "name": "stdout",
     "output_type": "stream",
     "text": [
      "step: 1, current loss: 3868.2291666666665\n",
      "step: 2, current loss: 105.04357496954218\n",
      "step: 4, current loss: 0.3307135454853347\n",
      "ENDED ON STEP: 6, FINAL LOSS: 5.882202372519996e-20\n",
      "PARAMETERS: [2.5 2.5]\n"
     ]
    }
   ],
   "source": [
    "# матрица Гессе для функции потерь по параметрам \n",
    "hess = tf.hessians(loss, p)[0]\n",
    "# градиент превращаем в вектор-столбец\n",
    "grad_col = tf.expand_dims(grad, -1)\n",
    "# насколько надо изменить вектор параметров\n",
    "dp = tf.matmul(tf.linalg.inv(hess), grad_col)\n",
    "# вектор-столбец в вектор-строку\n",
    "dp = tf.squeeze(dp)\n",
    "# меняем p на dp со знаком минус\n",
    "newton = opt.apply_gradients([(dp, p)])\n",
    "# запускаем цикл оптимизации, сделаем не больше 40000 шагов\n",
    "session.run(tf.global_variables_initializer())\n",
    "train(1e-10, 40000, loss, newton, feed_dict)\n",
    "print('PARAMETERS:', session.run(p))"
   ]
  },
  {
   "cell_type": "code",
   "execution_count": null,
   "metadata": {},
   "outputs": [],
   "source": []
  }
 ],
 "metadata": {
  "kernelspec": {
   "display_name": "Python 3.6 (with Tensorflow GPU)",
   "language": "python",
   "name": "tensorflow"
  },
  "language_info": {
   "codemirror_mode": {
    "name": "ipython",
    "version": 3
   },
   "file_extension": ".py",
   "mimetype": "text/x-python",
   "name": "python",
   "nbconvert_exporter": "python",
   "pygments_lexer": "ipython3",
   "version": "3.6.4"
  }
 },
 "nbformat": 4,
 "nbformat_minor": 2
}
