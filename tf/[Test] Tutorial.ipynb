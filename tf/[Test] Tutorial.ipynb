{
 "cells": [
  {
   "cell_type": "code",
   "execution_count": 1,
   "metadata": {},
   "outputs": [
    {
     "name": "stderr",
     "output_type": "stream",
     "text": [
      "/home/andrey/tensorflow/lib/python3.6/site-packages/h5py/__init__.py:36: FutureWarning: Conversion of the second argument of issubdtype from `float` to `np.floating` is deprecated. In future, it will be treated as `np.float64 == np.dtype(float).type`.\n",
      "  from ._conv import register_converters as _register_converters\n"
     ]
    }
   ],
   "source": [
    "import numpy as np\n",
    "import tensorflow as tf\n",
    "import math\n",
    "\n",
    "def rosenbrock(x, y, a, b):\n",
    "    return (a - x)**2 + b*(y - x**2)**2"
   ]
  },
  {
   "cell_type": "code",
   "execution_count": 2,
   "metadata": {},
   "outputs": [],
   "source": [
    "# эксперименты будут случайными\n",
    "def get_random_rosenbrock_data_points(m):\n",
    "    result = np.zeros((m, 3))\n",
    "    result[:, 0] = np.random.uniform(-2, 2, m)\n",
    "    result[:, 1] = np.random.uniform(-2, 2, m)\n",
    "    result[:, 2] = rosenbrock(result[:, 0], result[:, 1], 2.5, 2.5)\n",
    "    return result\n",
    "\n",
    "m = 500\n",
    "data_points = get_random_rosenbrock_data_points(m)\n",
    "# overfitting - не тема этой статьи, но совсем без валидации никак\n",
    "validation_data_points = get_random_rosenbrock_data_points(m)"
   ]
  },
  {
   "cell_type": "code",
   "execution_count": 3,
   "metadata": {},
   "outputs": [],
   "source": [
    "# хотим скрытый слой из 10 \"нейронов\"\n",
    "n_hidden = 10\n",
    "\n",
    "# начальную догадку будем конструировать алгоритмом Xavier'a\n",
    "initializer = tf.contrib.layers.xavier_initializer()\n",
    "\n",
    "# тензоры весов и смещения для вычисления скрытого уровня\n",
    "W1 = tf.Variable(initializer([2, n_hidden], dtype=tf.float64))\n",
    "b1 = tf.Variable(initializer([1, n_hidden], dtype=tf.float64))\n",
    "# тензоры весов и смещения для вычисления прогноза\n",
    "W2 = tf.Variable(initializer([n_hidden, 1], dtype=tf.float64))\n",
    "b2 = tf.Variable(initializer([1], dtype=tf.float64))\n",
    "\n",
    "with tf.name_scope(\"net\"):\n",
    "    # тензоры данных экспериментов\n",
    "    x = tf.placeholder(tf.float64, shape=[m, 2])\n",
    "    y = tf.placeholder(tf.float64, shape=[m, 1])\n",
    "\n",
    "    # вычисление скрытого слоя, используем tanh для активации\n",
    "    h1 = tf.nn.tanh(tf.matmul(x, W1) + b1)\n",
    "    \n",
    "    # вычисление прогноза\n",
    "    y_hat = tf.matmul(h1, W2) + b2\n",
    "    # невязки\n",
    "    r = y - y_hat\n",
    "\n",
    "# данные для подстановки в тензоры placeholder\n",
    "feed_dict = {x: data_points[:,0:2], \n",
    "             y: data_points[:,2:3]}"
   ]
  },
  {
   "cell_type": "code",
   "execution_count": 4,
   "metadata": {},
   "outputs": [],
   "source": [
    "def jacobian(y, x):\n",
    "    with tf.name_scope(\"Jacobian\"):\n",
    "        loop_vars = [\n",
    "            tf.constant(0, tf.int32),\n",
    "            tf.TensorArray(tf.float64, size=m),\n",
    "        ]\n",
    "\n",
    "        _, jacobian = tf.while_loop(\n",
    "            lambda i, _: i < m,\n",
    "            lambda i, res: (i+1, res.write(i, tf.reshape(tf.gradients(y[i], x), (-1,)))),\n",
    "            loop_vars)\n",
    "        return jacobian.stack()\n",
    "\n",
    "r_flat = tf.squeeze(r)\n",
    "parms = [W1, b1, W2, b2]\n",
    "j = tf.concat([jacobian(r_flat, p) for p in parms], 1)\n",
    "jT = tf.transpose(j)"
   ]
  },
  {
   "cell_type": "code",
   "execution_count": 5,
   "metadata": {},
   "outputs": [
    {
     "data": {
      "text/plain": [
       "<tensorflow.python.summary.writer.writer.FileWriter at 0x7fca8384e908>"
      ]
     },
     "execution_count": 5,
     "metadata": {},
     "output_type": "execute_result"
    }
   ],
   "source": [
    "session = tf.Session()\n",
    "session.run(tf.global_variables_initializer())\n",
    "session.run(j, feed_dict)\n",
    "tf.summary.FileWriter('./logs/loss', session.graph)"
   ]
  },
  {
   "cell_type": "code",
   "execution_count": null,
   "metadata": {},
   "outputs": [],
   "source": []
  }
 ],
 "metadata": {
  "kernelspec": {
   "display_name": "Python 3.6 (with Tensorflow GPU)",
   "language": "python",
   "name": "tensorflow"
  },
  "language_info": {
   "codemirror_mode": {
    "name": "ipython",
    "version": 3
   },
   "file_extension": ".py",
   "mimetype": "text/x-python",
   "name": "python",
   "nbconvert_exporter": "python",
   "pygments_lexer": "ipython3",
   "version": "3.6.4"
  }
 },
 "nbformat": 4,
 "nbformat_minor": 2
}
